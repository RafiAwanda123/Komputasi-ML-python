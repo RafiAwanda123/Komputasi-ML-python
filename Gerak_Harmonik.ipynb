{
  "nbformat": 4,
  "nbformat_minor": 0,
  "metadata": {
    "colab": {
      "provenance": [],
      "authorship_tag": "ABX9TyPqYLkolKUFioGA+1/ADGWX",
      "include_colab_link": true
    },
    "kernelspec": {
      "name": "python3",
      "display_name": "Python 3"
    },
    "language_info": {
      "name": "python"
    }
  },
  "cells": [
    {
      "cell_type": "markdown",
      "metadata": {
        "id": "view-in-github",
        "colab_type": "text"
      },
      "source": [
        "<a href=\"https://colab.research.google.com/github/RafiAwanda123/Komputasi-ML-python/blob/main/Gerak_Harmonik.ipynb\" target=\"_parent\"><img src=\"https://colab.research.google.com/assets/colab-badge.svg\" alt=\"Open In Colab\"/></a>"
      ]
    },
    {
      "cell_type": "code",
      "execution_count": null,
      "metadata": {
        "colab": {
          "base_uri": "https://localhost:8080/",
          "height": 312
        },
        "id": "KpLwyJFolNDr",
        "outputId": "3ed7a72e-6e51-4c63-dd63-acd13fbd7e96"
      },
      "outputs": [
        {
          "output_type": "stream",
          "name": "stdout",
          "text": [
            "Nilai Koefisien Redam =  93.70720871162015  Ns/m\n"
          ]
        },
        {
          "output_type": "display_data",
          "data": {
            "text/plain": [
              "<Figure size 432x288 with 1 Axes>"
            ],
            "image/png": "[encoded data removed]"
          },
          "metadata": {
            "needs_background": "light"
          }
        }
      ],
      "source": [
        "import math\n",
        "import matplotlib.pyplot as plt\n",
        "import numpy as np\n",
        "\n",
        "# Input parameter\n",
        "d_kawat = 7.8 # mm\n",
        "d_pegas = 63 # mm\n",
        "h_pegas = 187 # mm\n",
        "n_lilitan = 8 # mm\n",
        "beban = 1000 # N\n",
        "G = 11.2 * 10**9 # Pa\n",
        "\n",
        "# Konversi parameter ke SI unit\n",
        "d_kawat /= 1000 # m\n",
        "d_pegas /= 1000 # m\n",
        "h_pegas /= 1000 # m\n",
        "n_lilitan /= 1000 # m\n",
        "R_kawat = d_kawat / 2\n",
        "R_pegas = d_pegas / 2\n",
        "A_pegas = math.pi * R_pegas**2\n",
        "l_pegas = n_lilitan * math.pi * d_pegas\n",
        "k = (G * A_pegas * R_kawat**4) / (8 * l_pegas**2 * h_pegas)\n",
        "m = beban / 9.81\n",
        "c = 0.1 * math.sqrt(4 * m * k) # Koefisien redaman\n",
        "\n",
        "# Ngwluarin Koefisien redam\n",
        "print('Nilai Koefisien Redam = ', c,' Ns/m')\n",
        "\n",
        "# Membuat plot grafik untuk gerakan osilasi\n",
        "waktu = []\n",
        "gerakan = []\n",
        "\n",
        "amplitudo = 20 # mm\n",
        "frekuensi = math.sqrt(k/m) / (2 * math.pi) # Hz\n",
        "fase = 0 # rad\n",
        "\n",
        "for i in range(0, 12):\n",
        "    t = i/1\n",
        "    x = amplitudo * math.exp(-c*t) * math.cos(2 * math.pi * frekuensi * t + fase)\n",
        "    waktu.append(t)\n",
        "    gerakan.append(x)\n",
        "\n",
        "plt.plot(waktu, gerakan)\n",
        "plt.xlabel(\"Waktu (s)\")\n",
        "plt.ylabel(\"Gerakan (mm)\")\n",
        "plt.title(\"Grafik Gerakan Harmonik Sederhana pada Suspensi Shockbreaker\")\n",
        "plt.rcParams['agg.path.chunksize'] = 10000\n",
        "plt.show()\n"
      ]
    }
  ]
}