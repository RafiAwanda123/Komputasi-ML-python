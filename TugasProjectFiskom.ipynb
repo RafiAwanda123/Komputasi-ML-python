{
  "nbformat": 4,
  "nbformat_minor": 0,
  "metadata": {
    "colab": {
      "provenance": [],
      "authorship_tag": "ABX9TyMMapk4ujAFjxXmcp5P2Xhb",
      "include_colab_link": true
    },
    "kernelspec": {
      "name": "python3",
      "display_name": "Python 3"
    },
    "language_info": {
      "name": "python"
    }
  },
  "cells": [
    {
      "cell_type": "markdown",
      "metadata": {
        "id": "view-in-github",
        "colab_type": "text"
      },
      "source": [
        "<a href=\"https://colab.research.google.com/github/RafiAwanda123/Komputasi-ML-python/blob/Tugas-Komputasi/TugasProjectFiskom.ipynb\" target=\"_parent\"><img src=\"https://colab.research.google.com/assets/colab-badge.svg\" alt=\"Open In Colab\"/></a>"
      ]
    },
    {
      "cell_type": "markdown",
      "source": [
        "# **Transformasi Fourier**"
      ],
      "metadata": {
        "id": "dU4zCLz1Z0gp"
      }
    },
    {
      "cell_type": "markdown",
      "source": [
        "###Masukin libraries libraries yang di butuhkan"
      ],
      "metadata": {
        "id": "763Ln8LRa2UX"
      }
    },
    {
      "cell_type": "code",
      "execution_count": null,
      "metadata": {
        "id": "OjVs5txLZwd2"
      },
      "outputs": [],
      "source": [
        "import numpy as np\n",
        "import scipy as sp\n",
        "from scipy.integrate import quad\n",
        "import matplotlib.pyplot as plt \n",
        "import sympy as sy\n",
        "from sympy.integrals.transforms import fourier_transform\n",
        "from skimage import color"
      ]
    },
    {
      "cell_type": "markdown",
      "source": [
        "###Transformasi Fourier (waktu dan frekuensi yang terus menerus)"
      ],
      "metadata": {
        "id": "H-Yft_wOgSfX"
      }
    },
    {
      "cell_type": "markdown",
      "source": [
        "Disini kita pake fungsi yang sudah ada dimana nilainya dari -∞ sampai ∞\n",
        "\n",
        "$\\int_{-∞}^\\infty \\hat{x}(t)e^{-2\\pi ift} dt$"
      ],
      "metadata": {
        "id": "2sH5tUFuhieS"
      }
    },
    {
      "cell_type": "markdown",
      "source": [
        "\n",
        "\n",
        "---\n",
        "\n"
      ],
      "metadata": {
        "id": "YKr02Y6Xlzd_"
      }
    },
    {
      "cell_type": "code",
      "source": [
        "t, f = sy.symbols('t, f', real=True)\n",
        "k = sy.symbols('k', real=True, positive=True)\n",
        "x = sy.exp(-k * t**2) * k * t\n",
        "x"
      ],
      "metadata": {
        "colab": {
          "base_uri": "https://localhost:8080/",
          "height": 41
        },
        "id": "xXlE1ASvhh47",
        "outputId": "592fef31-5de1-472b-bd04-bcd4a1c72001"
      },
      "execution_count": null,
      "outputs": [
        {
          "output_type": "execute_result",
          "data": {
            "text/plain": [
              "k*t*exp(-k*t**2)"
            ],
            "text/latex": "$\\displaystyle k t e^{- k t^{2}}$"
          },
          "metadata": {},
          "execution_count": 2
        }
      ]
    },
    {
      "cell_type": "code",
      "source": [
        "x_TF = fourier_transform(x,t,f)\n",
        "x_TF"
      ],
      "metadata": {
        "colab": {
          "base_uri": "https://localhost:8080/",
          "height": 65
        },
        "id": "bMNGjyhPmZiz",
        "outputId": "d9ae584a-72e2-4315-c4cc-d38b21ef65c2"
      },
      "execution_count": null,
      "outputs": [
        {
          "output_type": "execute_result",
          "data": {
            "text/plain": [
              "-I*pi**(3/2)*f*exp(-pi**2*f**2/k)/sqrt(k)"
            ],
            "text/latex": "$\\displaystyle - \\frac{i \\pi^{\\frac{3}{2}} f e^{- \\frac{\\pi^{2} f^{2}}{k}}}{\\sqrt{k}}$"
          },
          "metadata": {},
          "execution_count": 3
        }
      ]
    },
    {
      "cell_type": "markdown",
      "source": [
        "\n",
        "\n",
        "---\n",
        "\n"
      ],
      "metadata": {
        "id": "Dfnr2hydo9HT"
      }
    },
    {
      "cell_type": "markdown",
      "source": [
        "Fungsi berhenti di sini karena sympy itu tidak bisa mengevalusai integral secara analitik jadi gunakan scipy untuk kasus ini. Tentukan fungsi yang ingin kita ambil dari transformasi fourier dan fungsi untuk menghitung transformasi fourier"
      ],
      "metadata": {
        "id": "5W4a2scroRZb"
      }
    },
    {
      "cell_type": "markdown",
      "source": [
        "\n",
        "\n",
        "-----\n",
        "\n"
      ],
      "metadata": {
        "id": "8hIzv8H0o-t4"
      }
    },
    {
      "cell_type": "code",
      "source": [
        "def x(t, k):\n",
        "  return np.exp(-k * t**2) * np.sin(k*t) * t**4\n",
        "\n",
        "def buat_x_TF(x,f,k):\n",
        "  x_TF_integral_real = lambda t: np.real(x(t, k)*np.exp(-2*np.pi*1j*f*t)) #integral real yang sesuai dengan fungsi pertama \n",
        "  x_TF_integral_imaj = lambda t: np.imag(x(t, k)*np.exp(-2*np.pi*1j*f*t)) #integral imaginer yang sesuasi dengan fungsi pertama \n",
        "  x_TF_real = quad(x_TF_integral_real, -np.inf, np.inf)[0]\n",
        "  x_TF_imaj = quad(x_TF_integral_imaj, -np.inf, np.inf)[0]\n",
        "  return x_TF_real + 1j*x_TF_imaj"
      ],
      "metadata": {
        "id": "QXFwwLiWo7nx"
      },
      "execution_count": null,
      "outputs": []
    },
    {
      "cell_type": "markdown",
      "source": [
        "isi nilai frekuensi dan nilai transformasi fourier"
      ],
      "metadata": {
        "id": "QJfhk1UcrizO"
      }
    },
    {
      "cell_type": "code",
      "source": [
        "f = np.linspace(-8,8,150)\n",
        "x_TF = np.vectorize(buat_x_TF)(x,f,k=2)"
      ],
      "metadata": {
        "id": "-L-Myrerrq5K"
      },
      "execution_count": null,
      "outputs": []
    },
    {
      "cell_type": "markdown",
      "source": [
        "#**Plot**"
      ],
      "metadata": {
        "id": "gC6AbCkHtbuA"
      }
    },
    {
      "cell_type": "code",
      "source": [
        "plt.plot(f, np.abs(x_TF), color = 'red')\n",
        "plt.ylabel('$\\hat{x}(f)$', fontsize = 20)\n",
        "plt.xlabel('$f$', fontsize = 20 )\n",
        "plt.title('Transformasi Fourier', fontsize = 15)"
      ],
      "metadata": {
        "colab": {
          "base_uri": "https://localhost:8080/",
          "height": 268
        },
        "id": "nxNonhlltgeM",
        "outputId": "e2d7a992-0a1d-46db-8230-397b3075553c"
      },
      "execution_count": null,
      "outputs": [
        {
          "output_type": "execute_result",
          "data": {
            "text/plain": [
              "Text(0.5, 1.0, 'Transformasi Fourier')"
            ]
          },
          "metadata": {},
          "execution_count": 8
        },
        {
          "output_type": "display_data",
          "data": {
            "text/plain": [
              "<Figure size 432x288 with 1 Axes>"
            ],
            "image/png": "[encoded data removed]"
          },
          "metadata": {
            "needs_background": "light"
          }
        }
      ]
    }
  ]
}