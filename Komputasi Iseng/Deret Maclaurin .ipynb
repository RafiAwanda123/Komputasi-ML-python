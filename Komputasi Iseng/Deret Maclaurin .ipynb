{
 "cells": [
  {
   "cell_type": "code",
   "execution_count": null,
   "id": "24308f7c",
   "metadata": {},
   "outputs": [],
   "source": [
    "import numpy as np \n",
    "from math import e, factorial\n",
    "\n",
    "factorize = np.vectorize(factorial)"
   ]
  },
  {
   "cell_type": "code",
   "execution_count": null,
   "id": "6593c9bf",
   "metadata": {},
   "outputs": [],
   "source": []
  },
  {
   "cell_type": "code",
   "execution_count": null,
   "id": "87364eb3",
   "metadata": {},
   "outputs": [],
   "source": []
  }
 ],
 "metadata": {
  "kernelspec": {
   "display_name": "Python 3",
   "language": "python",
   "name": "python3"
  },
  "language_info": {
   "codemirror_mode": {
    "name": "ipython",
    "version": 3
   },
   "file_extension": ".py",
   "mimetype": "text/x-python",
   "name": "python",
   "nbconvert_exporter": "python",
   "pygments_lexer": "ipython3",
   "version": "3.8.8"
  }
 },
 "nbformat": 4,
 "nbformat_minor": 5
}
